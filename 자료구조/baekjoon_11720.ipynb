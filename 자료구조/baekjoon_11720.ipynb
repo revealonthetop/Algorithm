{
 "cells": [
  {
   "cell_type": "markdown",
   "id": "7abe0e0f",
   "metadata": {},
   "source": [
    "### 백준_11720"
   ]
  },
  {
   "cell_type": "code",
   "execution_count": 6,
   "id": "2d326a32",
   "metadata": {},
   "outputs": [
    {
     "name": "stdout",
     "output_type": "stream",
     "text": [
      "5\n",
      "12345\n",
      "15\n"
     ]
    }
   ],
   "source": [
    "n = input()\n",
    "nums = input()\n",
    "sum_num = 0\n",
    "\n",
    "for i in nums:\n",
    "    sum_num +=  int(i)\n",
    "print(sum_num)"
   ]
  },
  {
   "cell_type": "code",
   "execution_count": null,
   "id": "a03ab693",
   "metadata": {},
   "outputs": [],
   "source": []
  }
 ],
 "metadata": {
  "kernelspec": {
   "display_name": "Python 3 (ipykernel)",
   "language": "python",
   "name": "python3"
  },
  "language_info": {
   "codemirror_mode": {
    "name": "ipython",
    "version": 3
   },
   "file_extension": ".py",
   "mimetype": "text/x-python",
   "name": "python",
   "nbconvert_exporter": "python",
   "pygments_lexer": "ipython3",
   "version": "3.9.13"
  }
 },
 "nbformat": 4,
 "nbformat_minor": 5
}
