{
 "cells": [
  {
   "cell_type": "code",
   "execution_count": 2,
   "id": "7d04a833",
   "metadata": {
    "scrolled": true
   },
   "outputs": [
    {
     "name": "stdout",
     "output_type": "stream",
     "text": [
      "8\n",
      "4\n",
      "3\n",
      "6\n",
      "8\n",
      "7\n",
      "5\n",
      "2\n",
      "1\n"
     ]
    },
    {
     "ename": "IndexError",
     "evalue": "pop from empty list",
     "output_type": "error",
     "traceback": [
      "\u001b[1;31m---------------------------------------------------------------------------\u001b[0m",
      "\u001b[1;31mIndexError\u001b[0m                                Traceback (most recent call last)",
      "\u001b[1;32m~\\AppData\\Local\\Temp\\ipykernel_2780\\473195727.py\u001b[0m in \u001b[0;36m<module>\u001b[1;34m\u001b[0m\n\u001b[0;32m     21\u001b[0m         \u001b[0manswer\u001b[0m \u001b[1;33m+=\u001b[0m \u001b[1;34m\"-\\n\"\u001b[0m\u001b[1;33m\u001b[0m\u001b[1;33m\u001b[0m\u001b[0m\n\u001b[0;32m     22\u001b[0m     \u001b[1;32melse\u001b[0m\u001b[1;33m:\u001b[0m\u001b[1;33m\u001b[0m\u001b[1;33m\u001b[0m\u001b[0m\n\u001b[1;32m---> 23\u001b[1;33m         \u001b[0mn\u001b[0m \u001b[1;33m=\u001b[0m \u001b[0mstack\u001b[0m\u001b[1;33m.\u001b[0m\u001b[0mpop\u001b[0m\u001b[1;33m(\u001b[0m\u001b[1;33m)\u001b[0m\u001b[1;33m\u001b[0m\u001b[1;33m\u001b[0m\u001b[0m\n\u001b[0m\u001b[0;32m     24\u001b[0m         \u001b[1;32mif\u001b[0m \u001b[0mn\u001b[0m \u001b[1;33m>\u001b[0m \u001b[0mtarget\u001b[0m\u001b[1;33m:\u001b[0m\u001b[1;33m\u001b[0m\u001b[1;33m\u001b[0m\u001b[0m\n\u001b[0;32m     25\u001b[0m             \u001b[0mprint\u001b[0m\u001b[1;33m(\u001b[0m\u001b[1;34m\"NO\"\u001b[0m\u001b[1;33m)\u001b[0m\u001b[1;33m\u001b[0m\u001b[1;33m\u001b[0m\u001b[0m\n",
      "\u001b[1;31mIndexError\u001b[0m: pop from empty list"
     ]
    }
   ],
   "source": [
    "N = int(input())\n",
    "A = [0]*N\n",
    "\n",
    "# 한줄씩 받은 값을 가장 빠르게 리스트에 넣는 방법.\n",
    "for i in range(N):\n",
    "    A[i] = int(input())\n",
    "    \n",
    "stack = []\n",
    "num = 1\n",
    "result = True\n",
    "answer =\"\"\n",
    "\n",
    "for i in range(N):\n",
    "    target = A[i]\n",
    "    if target <= num :\n",
    "        while target >= num:\n",
    "            stack.appned(num)\n",
    "            num += 1\n",
    "            answer += \"+\\n\"\n",
    "        stack.pop()\n",
    "        answer += \"-\\n\"\n",
    "    else:\n",
    "        n = stack.pop()\n",
    "        if n > target:\n",
    "            print(\"NO\")\n",
    "            result = False\n",
    "            break\n",
    "        else:\n",
    "            answer += \"-\\n\"\n",
    "\n",
    "if result:\n",
    "    print(answer)"
   ]
  },
  {
   "cell_type": "code",
   "execution_count": 5,
   "id": "417c676e",
   "metadata": {},
   "outputs": [
    {
     "name": "stdout",
     "output_type": "stream",
     "text": [
      "3\n",
      "5\n",
      "6\n",
      "7\n",
      "+\n",
      "+\n",
      "+\n",
      "+\n",
      "+\n",
      "-\n",
      "+\n",
      "-\n",
      "+\n",
      "-\n",
      "\n"
     ]
    }
   ],
   "source": [
    "N = int(input())\n",
    "A = [0]*N\n",
    "for i in range(N):\n",
    "    A[i] = int(input())\n",
    "stack = []\n",
    "num = 1\n",
    "result = True\n",
    "answer = \"\"\n",
    "for i in range(N):\n",
    "    su = A[i]\n",
    "    if su >= num:   #현재 수열 값 >= 오름차순 자연수: 값이 같아질 때까지 push() 수행\n",
    "        while su >= num:\n",
    "            stack.append(num)\n",
    "            num += 1\n",
    "            answer += \"+\\n\"\n",
    "        stack.pop()\n",
    "        answer += \"-\\n\"\n",
    "    else:           #현재 수열 값 < 오름차순 자연수: pop()을 수행해 수열 원소를 꺼냄\n",
    "        n = stack.pop()\n",
    "        if n > su:  #스택의 가장 위의 수가 만들어야 하는 수열의 수보다 크면 수열을 출력할 수 없음\n",
    "            print(\"NO\")\n",
    "            result = False\n",
    "            break\n",
    "        else:\n",
    "            answer += \"-\\n\"\n",
    "if result:\n",
    "    print(answer)"
   ]
  }
 ],
 "metadata": {
  "kernelspec": {
   "display_name": "Python 3 (ipykernel)",
   "language": "python",
   "name": "python3"
  },
  "language_info": {
   "codemirror_mode": {
    "name": "ipython",
    "version": 3
   },
   "file_extension": ".py",
   "mimetype": "text/x-python",
   "name": "python",
   "nbconvert_exporter": "python",
   "pygments_lexer": "ipython3",
   "version": "3.9.13"
  }
 },
 "nbformat": 4,
 "nbformat_minor": 5
}
