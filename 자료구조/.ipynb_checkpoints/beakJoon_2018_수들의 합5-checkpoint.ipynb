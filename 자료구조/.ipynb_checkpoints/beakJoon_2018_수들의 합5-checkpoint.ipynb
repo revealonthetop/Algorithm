{
 "cells": [
  {
   "cell_type": "code",
   "execution_count": 1,
   "id": "379e4c13",
   "metadata": {},
   "outputs": [
    {
     "name": "stdout",
     "output_type": "stream",
     "text": [
      "15\n",
      "4\n"
     ]
    }
   ],
   "source": [
    "n = int(input())\n",
    "\n",
    "start,end,sum,cnt = 1,1,1,1\n",
    "\n",
    "while(end != n):\n",
    "    if sum == n:\n",
    "        cnt+=1\n",
    "        end += 1\n",
    "        sum += end\n",
    "    elif sum > n:\n",
    "        sum -= start\n",
    "        start += 1\n",
    "    else:\n",
    "        end += 1\n",
    "        sum += end\n",
    "\n",
    "print(cnt)"
   ]
  }
 ],
 "metadata": {
  "kernelspec": {
   "display_name": "Python 3 (ipykernel)",
   "language": "python",
   "name": "python3"
  },
  "language_info": {
   "codemirror_mode": {
    "name": "ipython",
    "version": 3
   },
   "file_extension": ".py",
   "mimetype": "text/x-python",
   "name": "python",
   "nbconvert_exporter": "python",
   "pygments_lexer": "ipython3",
   "version": "3.9.13"
  }
 },
 "nbformat": 4,
 "nbformat_minor": 5
}
