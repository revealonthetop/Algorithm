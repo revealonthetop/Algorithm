{
 "cells": [
  {
   "cell_type": "code",
   "execution_count": null,
   "id": "0c7d6943",
   "metadata": {},
   "outputs": [
    {
     "name": "stdout",
     "output_type": "stream",
     "text": [
      "10\n"
     ]
    }
   ],
   "source": [
    "n = int(input())\n",
    "cnt_code1 = 0\n",
    "f = [1,1,2]\n",
    "\n",
    "def fib(b):\n",
    "    global cnt_code1 \n",
    "    cnt_code1 += 1\n",
    "    if (n ==1) or n == 2:\n",
    "        return 1\n",
    "    else:\n",
    "        return (fib(n-2) + fib(n-1))\n",
    "\n",
    "fib(n)\n",
    "print(cnt_code1)\n",
    "# fibonacii(n):\n",
    "#     code2 += 1\n",
    "#     for i in range(4,n+1):\n",
    "#         f[i] = f[i-2]+f[i-1]\n",
    "\n",
    "# fibonacci(n) {\n",
    "#     f[1] <- f[2] <- 1;\n",
    "#     for i <- 3 to n\n",
    "#         f[i] <- f[i - 1] + f[i - 2];  # 코드2\n",
    "#     return f[n];\n",
    "# }"
   ]
  },
  {
   "cell_type": "code",
   "execution_count": 2,
   "id": "f9ecec37",
   "metadata": {},
   "outputs": [
    {
     "name": "stdout",
     "output_type": "stream",
     "text": [
      "30\n",
      "832040 28\n"
     ]
    }
   ],
   "source": [
    "n = int(input())\n",
    "f = [0,1,1,2]\n",
    "\n",
    "for i in range(4, n+1):\n",
    "    temp = f[i-1]+f[i-2]\n",
    "    f.append(temp)\n",
    "\n",
    "print(f[n], n-2)"
   ]
  }
 ],
 "metadata": {
  "kernelspec": {
   "display_name": "Python 3 (ipykernel)",
   "language": "python",
   "name": "python3"
  },
  "language_info": {
   "codemirror_mode": {
    "name": "ipython",
    "version": 3
   },
   "file_extension": ".py",
   "mimetype": "text/x-python",
   "name": "python",
   "nbconvert_exporter": "python",
   "pygments_lexer": "ipython3",
   "version": "3.9.13"
  }
 },
 "nbformat": 4,
 "nbformat_minor": 5
}
