{
 "cells": [
  {
   "cell_type": "code",
   "execution_count": 3,
   "id": "375e458e",
   "metadata": {},
   "outputs": [
    {
     "name": "stdout",
     "output_type": "stream",
     "text": [
      "9\n",
      "5 12 7 10 9 1 2 3 11\n",
      "13\n",
      "3\n"
     ]
    }
   ],
   "source": [
    "import sys\n",
    "input = sys.stdin.readline\n",
    "\n",
    "n = int(input())\n",
    "A= list(map(int,input().split()))\n",
    "x = int(input())\n",
    "p1 = 0\n",
    "p2 = n-1\n",
    "cnt = 0\n",
    "\n",
    "A.sort()\n",
    "\n",
    "while p1 != p2:\n",
    "    if A[p1] + A[p2] < x:\n",
    "        p1 += 1\n",
    "    elif A[p1]+A[p2] >x:\n",
    "        p2 -= 1\n",
    "    elif A[p1]+A[p2] == x:\n",
    "        cnt += 1\n",
    "        p1 +=1\n",
    "\n",
    "print(cnt)"
   ]
  }
 ],
 "metadata": {
  "kernelspec": {
   "display_name": "Python 3 (ipykernel)",
   "language": "python",
   "name": "python3"
  },
  "language_info": {
   "codemirror_mode": {
    "name": "ipython",
    "version": 3
   },
   "file_extension": ".py",
   "mimetype": "text/x-python",
   "name": "python",
   "nbconvert_exporter": "python",
   "pygments_lexer": "ipython3",
   "version": "3.9.13"
  }
 },
 "nbformat": 4,
 "nbformat_minor": 5
}
