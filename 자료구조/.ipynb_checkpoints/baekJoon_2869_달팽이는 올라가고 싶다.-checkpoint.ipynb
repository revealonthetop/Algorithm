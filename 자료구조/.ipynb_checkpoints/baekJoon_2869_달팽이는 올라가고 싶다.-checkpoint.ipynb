{
 "cells": [
  {
   "cell_type": "code",
   "execution_count": 17,
   "id": "ab6a8a6c",
   "metadata": {},
   "outputs": [
    {
     "name": "stdout",
     "output_type": "stream",
     "text": [
      "5 1 6\n",
      "2\n"
     ]
    }
   ],
   "source": [
    "A, B, V = map(int,input().split())\n",
    "day=0\n",
    "\n",
    "while V >= 0:\n",
    "    day += 1\n",
    "    V -= A \n",
    "    if V <= 0:\n",
    "        print(day)\n",
    "        break\n",
    "    V += B\n",
    "    ## 시간초과 답안"
   ]
  },
  {
   "cell_type": "code",
   "execution_count": 18,
   "id": "4a11dc3f",
   "metadata": {},
   "outputs": [
    {
     "name": "stdout",
     "output_type": "stream",
     "text": [
      "5 1 6\n",
      "2\n"
     ]
    }
   ],
   "source": [
    "a,b,v = map(int,input().split())\n",
    "\n",
    "if (v-b)%(a-b)!=0:\n",
    "    print(int((v-b)/(a-b)+1))\n",
    "else:\n",
    "    print(int((v-b)/(a-b)))"
   ]
  }
 ],
 "metadata": {
  "kernelspec": {
   "display_name": "Python 3 (ipykernel)",
   "language": "python",
   "name": "python3"
  },
  "language_info": {
   "codemirror_mode": {
    "name": "ipython",
    "version": 3
   },
   "file_extension": ".py",
   "mimetype": "text/x-python",
   "name": "python",
   "nbconvert_exporter": "python",
   "pygments_lexer": "ipython3",
   "version": "3.9.13"
  }
 },
 "nbformat": 4,
 "nbformat_minor": 5
}
