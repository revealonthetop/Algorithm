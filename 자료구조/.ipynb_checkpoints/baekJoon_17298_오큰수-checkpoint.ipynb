{
 "cells": [
  {
   "cell_type": "code",
   "execution_count": null,
   "id": "baf884f7",
   "metadata": {},
   "outputs": [],
   "source": [
    "n= int(input())\n",
    "ans = [0]*n\n",
    "A = list(map(int,input().split()))\n",
    "stack = []\n",
    "\n",
    "for i in range(n):\n",
    "    while stack and A[stack[-1]] < A[i]:\n",
    "        ans[stack.pop()] = A[i]\n",
    "    stack.append[i]\n",
    "\n",
    "while stack:\n",
    "    ans[stack.pop()] = -1\n",
    "    \n",
    "result = \"\"\n",
    "\n",
    "for i in range(n):\n",
    "    result += str(ans[i])+ ' '\n",
    "\n",
    "print(result)"
   ]
  }
 ],
 "metadata": {
  "kernelspec": {
   "display_name": "Python 3 (ipykernel)",
   "language": "python",
   "name": "python3"
  },
  "language_info": {
   "codemirror_mode": {
    "name": "ipython",
    "version": 3
   },
   "file_extension": ".py",
   "mimetype": "text/x-python",
   "name": "python",
   "nbconvert_exporter": "python",
   "pygments_lexer": "ipython3",
   "version": "3.9.13"
  }
 },
 "nbformat": 4,
 "nbformat_minor": 5
}
