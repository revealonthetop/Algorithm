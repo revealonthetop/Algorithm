{
 "cells": [
  {
   "cell_type": "markdown",
   "id": "0e107862",
   "metadata": {},
   "source": [
    "### 피보나치 함수\n"
   ]
  },
  {
   "cell_type": "code",
   "execution_count": 25,
   "id": "64b4ea83",
   "metadata": {},
   "outputs": [
    {
     "name": "stdout",
     "output_type": "stream",
     "text": [
      "10\n",
      "[[1, 0], [0, 1], [1, 1], [0, 0], [0, 0], [0, 0], [0, 0], [0, 0], [0, 0], [0, 0], [0, 0]]\n"
     ]
    }
   ],
   "source": [
    "n = int(input())\n",
    "Dp = [[1,0],[0,1],[1,1]] + [[0,0]]*(n-3)\n",
    "\n",
    "# print(Dp)"
   ]
  },
  {
   "cell_type": "code",
   "execution_count": 14,
   "id": "0e8b11ec",
   "metadata": {},
   "outputs": [
    {
     "name": "stdout",
     "output_type": "stream",
     "text": [
      "<generator object fibonacci.<locals>.<genexpr> at 0x000001CCC9F00040>\n"
     ]
    }
   ],
   "source": [
    "def fibo(Dp, n):\n",
    "    if Dp[n] != [0,0]:\n",
    "        return Dp[n]\n",
    "    else:\n",
    "        if n == 0:\n",
    "            Dp[n] = [1,0]\n",
    "        elif n == 1:\n",
    "            Dp[n] = [0,1]\n",
    "        else:\n",
    "            # Dp[n] 구한뒤 Dp에 append 할 것.\n",
    "            \n",
    "        return Dp[n]"
   ]
  },
  {
   "cell_type": "code",
   "execution_count": 8,
   "id": "6b46564c",
   "metadata": {},
   "outputs": [
    {
     "name": "stdout",
     "output_type": "stream",
     "text": [
      "[1, 1, 2, 2]\n"
     ]
    }
   ],
   "source": []
  }
 ],
 "metadata": {
  "kernelspec": {
   "display_name": "Python 3 (ipykernel)",
   "language": "python",
   "name": "python3"
  },
  "language_info": {
   "codemirror_mode": {
    "name": "ipython",
    "version": 3
   },
   "file_extension": ".py",
   "mimetype": "text/x-python",
   "name": "python",
   "nbconvert_exporter": "python",
   "pygments_lexer": "ipython3",
   "version": "3.9.13"
  }
 },
 "nbformat": 4,
 "nbformat_minor": 5
}
