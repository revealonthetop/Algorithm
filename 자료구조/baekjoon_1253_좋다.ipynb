{
 "cells": [
  {
   "cell_type": "code",
   "execution_count": 1,
   "id": "9e148383",
   "metadata": {},
   "outputs": [
    {
     "name": "stdout",
     "output_type": "stream",
     "text": [
      "10\n",
      "1 2 3 4 5 6 7 8 9 10\n",
      "8\n"
     ]
    }
   ],
   "source": [
    "import sys\n",
    "input = sys.stdin.readline\n",
    "\n",
    "N = int(input())\n",
    "num_list = list(map(int,input().split()))\n",
    "cnt = 0\n",
    "\n",
    "num_list.sort()\n",
    "\n",
    "for k in range(N):\n",
    "    target = num_list[k]\n",
    "    i, j = 0, N-1\n",
    "    while i < j: # 투 포인트\n",
    "        if num_list[i] + num_list[j] == target: # 서로 다른 두수 확인해야 됨\n",
    "            if i != k and j != k:\n",
    "                cnt += 1\n",
    "                break\n",
    "            elif i == k:\n",
    "                i+=1\n",
    "            elif j == k:\n",
    "                j -= 1\n",
    "        elif num_list[i] + num_list[j] < target:\n",
    "            i += 1\n",
    "        else: j -= 1\n",
    "\n",
    "print(cnt)"
   ]
  }
 ],
 "metadata": {
  "kernelspec": {
   "display_name": "Python 3 (ipykernel)",
   "language": "python",
   "name": "python3"
  },
  "language_info": {
   "codemirror_mode": {
    "name": "ipython",
    "version": 3
   },
   "file_extension": ".py",
   "mimetype": "text/x-python",
   "name": "python",
   "nbconvert_exporter": "python",
   "pygments_lexer": "ipython3",
   "version": "3.9.13"
  }
 },
 "nbformat": 4,
 "nbformat_minor": 5
}
