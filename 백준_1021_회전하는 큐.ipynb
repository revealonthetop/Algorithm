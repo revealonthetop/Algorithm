{
 "cells": [
  {
   "cell_type": "code",
   "execution_count": 4,
   "id": "eede416b",
   "metadata": {},
   "outputs": [
    {
     "name": "stdout",
     "output_type": "stream",
     "text": [
      "10 10\n",
      "1 6 3 2 7 9 8 4 10 5\n",
      "14\n"
     ]
    }
   ],
   "source": [
    "from collections import deque\n",
    "import sys\n",
    "# input = sys.stdin.readline\n",
    "\n",
    "n, m = map(int, input().split())\n",
    "indexs = list(map(int, input().split()))\n",
    "# deque 로 회전하는 세팅.\n",
    "dq = deque([i for i in range(1, n+1)])\n",
    "\n",
    "cnt = 0\n",
    "for idx in indexs:\n",
    "    while True:\n",
    "        # 같은 숫자이면 \n",
    "        if dq[0] == idx:\n",
    "            dq.popleft()\n",
    "            break\n",
    "        else:\n",
    "            if dq.index(idx) < len(dq)/2:\n",
    "                while dq[0] != idx:\n",
    "                    dq.rotate(-1)\n",
    "                    cnt += 1\n",
    "            else:\n",
    "                while dq[0] != idx:\n",
    "                    dq.rotate(1)\n",
    "                    cnt += 1\n",
    "print(cnt)"
   ]
  }
 ],
 "metadata": {
  "kernelspec": {
   "display_name": "Python 3 (ipykernel)",
   "language": "python",
   "name": "python3"
  },
  "language_info": {
   "codemirror_mode": {
    "name": "ipython",
    "version": 3
   },
   "file_extension": ".py",
   "mimetype": "text/x-python",
   "name": "python",
   "nbconvert_exporter": "python",
   "pygments_lexer": "ipython3",
   "version": "3.9.13"
  }
 },
 "nbformat": 4,
 "nbformat_minor": 5
}
