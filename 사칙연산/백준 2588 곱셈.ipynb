{
 "cells": [
  {
   "cell_type": "code",
   "execution_count": 3,
   "id": "c97c03b0",
   "metadata": {},
   "outputs": [
    {
     "name": "stdout",
     "output_type": "stream",
     "text": [
      "472\n",
      "385\n",
      "2360 3776 1416 181720\n"
     ]
    }
   ],
   "source": [
    "n = int(input())\n",
    "m = list(map(int,input()))\n",
    "\n",
    "a,b,c = n * m[2], n* m[1], n*m[0]\n",
    "\n",
    "answer = a + b*10 + c*10**2\n",
    "\n",
    "print(a,b,c,answer, end=\"\\n\")"
   ]
  }
 ],
 "metadata": {
  "kernelspec": {
   "display_name": "Python 3 (ipykernel)",
   "language": "python",
   "name": "python3"
  },
  "language_info": {
   "codemirror_mode": {
    "name": "ipython",
    "version": 3
   },
   "file_extension": ".py",
   "mimetype": "text/x-python",
   "name": "python",
   "nbconvert_exporter": "python",
   "pygments_lexer": "ipython3",
   "version": "3.9.13"
  }
 },
 "nbformat": 4,
 "nbformat_minor": 5
}
