{
 "cells": [
  {
   "cell_type": "code",
   "execution_count": 5,
   "id": "84c5307a",
   "metadata": {},
   "outputs": [
    {
     "name": "stdout",
     "output_type": "stream",
     "text": [
      "4\n",
      "()\n",
      ")\n",
      "(\n",
      "(())\n",
      "YES\n",
      "NO\n",
      "NO\n",
      "YES\n"
     ]
    }
   ],
   "source": [
    "# import sys\n",
    "# input = sys.stdin.readline\n",
    "\n",
    "n = int(input())\n",
    "VPS = []\n",
    "\n",
    "for _ in range(n):\n",
    "    VPS.append(input())\n",
    "    \n",
    "for i in range(n):\n",
    "    check = 0\n",
    "    for j in VPS[i]:\n",
    "        if j == \"(\":\n",
    "            check\n",
    "        else: check -= 1\n",
    "        if check < 0:\n",
    "            break\n",
    "    if check == 0 :\n",
    "        print(\"YES\")\n",
    "    else:\n",
    "        print(\"NO\")"
   ]
  },
  {
   "cell_type": "code",
   "execution_count": null,
   "id": "be12f16b",
   "metadata": {},
   "outputs": [],
   "source": [
    "T = int(input())\n",
    "\n",
    "for _ in range(T):\n",
    "    stack = []\n",
    "    a=input()\n",
    "    for j in a:\n",
    "        if j == '(':\n",
    "            stack.append(j)\n",
    "        elif j == ')':\n",
    "            if stack:\n",
    "                stack.pop()\n",
    "            else: # 스택에 괄호가 없을경우 NO\n",
    "                print(\"NO\")\n",
    "                break\n",
    "    else: # break문으로 끊기지 않고 수행됬을경우 수행한다\n",
    "        if not stack: # break문으로 안끊기고 스택이 비어있다면 괄호가 다 맞는거다.\n",
    "            print(\"YES\")\n",
    "        else: # break안 걸렸더라도 스택에 괄호가 들어있다면 NO이다.\n",
    "            print(\"NO\")"
   ]
  }
 ],
 "metadata": {
  "kernelspec": {
   "display_name": "Python 3 (ipykernel)",
   "language": "python",
   "name": "python3"
  },
  "language_info": {
   "codemirror_mode": {
    "name": "ipython",
    "version": 3
   },
   "file_extension": ".py",
   "mimetype": "text/x-python",
   "name": "python",
   "nbconvert_exporter": "python",
   "pygments_lexer": "ipython3",
   "version": "3.9.13"
  }
 },
 "nbformat": 4,
 "nbformat_minor": 5
}
