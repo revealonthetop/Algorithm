{
 "cells": [
  {
   "cell_type": "code",
   "execution_count": 4,
   "id": "024c3597",
   "metadata": {},
   "outputs": [
    {
     "name": "stdout",
     "output_type": "stream",
     "text": [
      "5\n",
      "10\n",
      "1\n",
      "5\n",
      "2\n",
      "3\n",
      "3\n"
     ]
    }
   ],
   "source": [
    "n = int(input())\n",
    "A = [0]*n\n",
    "\n",
    "for i in range(n):\n",
    "    A[i] = int(input())\n",
    "    \n",
    "swap = False\n",
    "\n",
    "for i in range(1,n+1):\n",
    "    swap = False\n",
    "    for j in range(n-i):\n",
    "        if (A[j] > A[j+1]):\n",
    "            swap = True\n",
    "            A[j] , A[j+1] = A[j+1], A[j]\n",
    "    \n",
    "    if swap == False:\n",
    "        print(i)\n",
    "        break;"
   ]
  }
 ],
 "metadata": {
  "kernelspec": {
   "display_name": "Python 3 (ipykernel)",
   "language": "python",
   "name": "python3"
  },
  "language_info": {
   "codemirror_mode": {
    "name": "ipython",
    "version": 3
   },
   "file_extension": ".py",
   "mimetype": "text/x-python",
   "name": "python",
   "nbconvert_exporter": "python",
   "pygments_lexer": "ipython3",
   "version": "3.9.13"
  }
 },
 "nbformat": 4,
 "nbformat_minor": 5
}
