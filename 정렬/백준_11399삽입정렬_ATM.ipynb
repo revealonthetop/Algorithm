{
 "cells": [
  {
   "cell_type": "code",
   "execution_count": 10,
   "id": "f046e35f",
   "metadata": {},
   "outputs": [
    {
     "name": "stdout",
     "output_type": "stream",
     "text": [
      "5\n",
      "3 1 4 3 2\n",
      "32\n"
     ]
    }
   ],
   "source": [
    "n = int(input())\n",
    "a = list(map(int,input().split()))\n",
    "answer = 0\n",
    "\n",
    "aa = sorted(a, reverse = True)\n",
    "\n",
    "for i in range(len(aa)):\n",
    "    answer += sum(aa[i:len(aa)])\n",
    "\n",
    "print(answer)"
   ]
  },
  {
   "cell_type": "code",
   "execution_count": 14,
   "id": "509fe51f",
   "metadata": {},
   "outputs": [
    {
     "name": "stdout",
     "output_type": "stream",
     "text": [
      "5\n",
      "1 2 3 4 5\n",
      "35\n"
     ]
    }
   ],
   "source": [
    "n = int(input())\n",
    "a = list(map(int,input().split()))\n",
    "S =[0]*n\n",
    "\n",
    "# 삽입정렬\n",
    "for i in range(1,n):\n",
    "    insert_point = i\n",
    "    insert_value = a[i]\n",
    "    for j in range(i-1,-1,-1):\n",
    "        if a[j] < a[i]:\n",
    "            insert_point = j+1\n",
    "            break\n",
    "        if j == 0:\n",
    "            insert_point = 0\n",
    "    for j in range(i,insert_point, -1):\n",
    "        a[j] == a[j-1]\n",
    "    a[insert_point] = insert_value\n",
    "\n",
    "S[0] = a[0]\n",
    "\n",
    "for i in range(1,n):\n",
    "    S[i] = S[i-1] + a[i]\n",
    "    \n",
    "sum = 0\n",
    "\n",
    "for i in range(0,n):\n",
    "    sum += S[i]\n",
    "\n",
    "print(sum)"
   ]
  },
  {
   "cell_type": "code",
   "execution_count": null,
   "id": "9410bb2b",
   "metadata": {},
   "outputs": [],
   "source": []
  }
 ],
 "metadata": {
  "kernelspec": {
   "display_name": "Python 3 (ipykernel)",
   "language": "python",
   "name": "python3"
  },
  "language_info": {
   "codemirror_mode": {
    "name": "ipython",
    "version": 3
   },
   "file_extension": ".py",
   "mimetype": "text/x-python",
   "name": "python",
   "nbconvert_exporter": "python",
   "pygments_lexer": "ipython3",
   "version": "3.9.13"
  }
 },
 "nbformat": 4,
 "nbformat_minor": 5
}
