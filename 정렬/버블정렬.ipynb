{
 "cells": [
  {
   "cell_type": "markdown",
   "id": "834e5efd",
   "metadata": {},
   "source": [
    "### 백준 2750"
   ]
  },
  {
   "cell_type": "code",
   "execution_count": null,
   "id": "04e71be0",
   "metadata": {},
   "outputs": [],
   "source": [
    "n = int(input())\n",
    "\n",
    "A = [0]*n\n",
    "\n",
    "for i in range(n):\n",
    "    A[i] = int(input())\n",
    "    \n",
    "for i in range(n):\n",
    "    for j in range(n-1-i):\n",
    "        if A[j] > A[j+1]:\n",
    "            temp = A[j]\n",
    "            A[j] = A[j+1]\n",
    "            A[j+1] = temp\n",
    "\n",
    "for i in range(n):\n",
    "    print(A[i])"
   ]
  },
  {
   "cell_type": "markdown",
   "id": "1f9ed7ae",
   "metadata": {},
   "source": [
    "### 백준 1377"
   ]
  },
  {
   "cell_type": "code",
   "execution_count": null,
   "id": "0c89af86",
   "metadata": {},
   "outputs": [],
   "source": []
  }
 ],
 "metadata": {
  "kernelspec": {
   "display_name": "Python 3 (ipykernel)",
   "language": "python",
   "name": "python3"
  },
  "language_info": {
   "codemirror_mode": {
    "name": "ipython",
    "version": 3
   },
   "file_extension": ".py",
   "mimetype": "text/x-python",
   "name": "python",
   "nbconvert_exporter": "python",
   "pygments_lexer": "ipython3",
   "version": "3.9.13"
  }
 },
 "nbformat": 4,
 "nbformat_minor": 5
}
