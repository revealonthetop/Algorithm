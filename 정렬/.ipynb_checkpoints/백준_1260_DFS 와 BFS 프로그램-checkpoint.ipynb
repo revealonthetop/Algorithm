{
 "cells": [
  {
   "cell_type": "code",
   "execution_count": 8,
   "id": "7adb036d",
   "metadata": {},
   "outputs": [
    {
     "name": "stdout",
     "output_type": "stream",
     "text": [
      "4 5 1\n",
      "1 2\n",
      "1 3\n",
      "1 4\n",
      "2 4\n",
      "3 4\n",
      "1 2 4 3 \n",
      "1 2 3 4 "
     ]
    }
   ],
   "source": [
    "# from collections import deque\n",
    "n,m,start = map(int, input().split())\n",
    "A=[[] for _ in range(n+1)]\n",
    "\n",
    "for _ in range(m):\n",
    "    s, e = map(int, input().split())\n",
    "    A[s].append(e)\n",
    "    A[e].append(s)\n",
    "\n",
    "for i in range(n +1):\n",
    "    A[i].sort()\n",
    "\n",
    "visited = [False] * (n+1)\n",
    "    \n",
    "def DFS(v):\n",
    "    print(v, end= ' ')\n",
    "    visited[v] = True\n",
    "    for i in A[v]:\n",
    "        if not visited[i]:\n",
    "            DFS(i)\n",
    "\n",
    "DFS(start)\n",
    "\n",
    "visited = [False]*(n+1)\n",
    "\n",
    "def BFS(v):\n",
    "    queue = deque()\n",
    "    queue.append(v)\n",
    "    visited[v] = True\n",
    "    while queue:\n",
    "        now_Node = queue.popleft()\n",
    "        print(now_Node, end= ' ')\n",
    "        for i in A[now_Node]:\n",
    "            if not visited[i]:\n",
    "                visited[i] = True\n",
    "                queue.append(i)\n",
    "\n",
    "print()\n",
    "BFS(start)"
   ]
  }
 ],
 "metadata": {
  "kernelspec": {
   "display_name": "Python 3 (ipykernel)",
   "language": "python",
   "name": "python3"
  },
  "language_info": {
   "codemirror_mode": {
    "name": "ipython",
    "version": 3
   },
   "file_extension": ".py",
   "mimetype": "text/x-python",
   "name": "python",
   "nbconvert_exporter": "python",
   "pygments_lexer": "ipython3",
   "version": "3.9.13"
  }
 },
 "nbformat": 4,
 "nbformat_minor": 5
}
