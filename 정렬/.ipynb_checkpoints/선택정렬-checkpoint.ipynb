{
 "cells": [
  {
   "cell_type": "code",
   "execution_count": 6,
   "id": "72c5ee80",
   "metadata": {},
   "outputs": [
    {
     "name": "stdout",
     "output_type": "stream",
     "text": [
      "1324235324\n",
      "1222333445\n"
     ]
    }
   ],
   "source": [
    "n = list(input())\n",
    "a = ''\n",
    "sorted_n = sorted(n, reverse=True)\n",
    "\n",
    "for i in sorted_n:\n",
    "    a += i\n",
    "\n",
    "print(a)"
   ]
  },
  {
   "cell_type": "code",
   "execution_count": 8,
   "id": "b811ce7e",
   "metadata": {},
   "outputs": [
    {
     "name": "stdout",
     "output_type": "stream",
     "text": [
      "109384093223498230948325\n",
      "999988854443333322221000"
     ]
    }
   ],
   "source": [
    "import sys\n",
    "print = sys.stdout.write\n",
    "A = list(input())\n",
    "\n",
    "for i in range(len(A)):\n",
    "    Max = i\n",
    "    for j in range(i+1, len(A)):\n",
    "        if A[j] > A[Max]:\n",
    "            Max = j\n",
    "    if A[i] < A[Max]:\n",
    "        temp = A[i]\n",
    "        A[i] = A[Max]\n",
    "        A[Max] = temp\n",
    "        \n",
    "for i in range(len(A)):\n",
    "    print(A[i])"
   ]
  }
 ],
 "metadata": {
  "kernelspec": {
   "display_name": "Python 3 (ipykernel)",
   "language": "python",
   "name": "python3"
  },
  "language_info": {
   "codemirror_mode": {
    "name": "ipython",
    "version": 3
   },
   "file_extension": ".py",
   "mimetype": "text/x-python",
   "name": "python",
   "nbconvert_exporter": "python",
   "pygments_lexer": "ipython3",
   "version": "3.9.13"
  }
 },
 "nbformat": 4,
 "nbformat_minor": 5
}
