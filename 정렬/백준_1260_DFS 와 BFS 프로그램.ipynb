{
 "cells": [
  {
   "cell_type": "code",
   "execution_count": null,
   "id": "94508fa4",
   "metadata": {},
   "outputs": [],
   "source": [
    "from collections import deque\n",
    "n,m,start = map(int, input().split())\n",
    "A=[[] for _ in range(n+1)]\n",
    "\n",
    "for _ in range(m):\n",
    "    s, e = map(int, input().split())\n",
    "    A[s].append(e)\n",
    "    A[e].append(s)\n",
    "\n",
    "for i in range(n +1):\n",
    "    A[i].sort()\n",
    "\n",
    "def DFS(v):\n",
    "    print(v, end= ' ')\n",
    "    visited[v] = True\n",
    "    for i in A[v]:\n",
    "        if not visited[i]:\n",
    "            DFS(i)\n",
    "\n",
    "visited = [False] * (n+1)\n",
    "DFS(start)\n",
    "\n",
    "def BFS(v):\n",
    "    queue = deque()\n",
    "    queue.append(v)\n",
    "    visited[v] = True\n",
    "    while queue:\n",
    "        now_Node = queue.popleft()\n",
    "        print(now_Node, end= ' ')\n",
    "        for i in A[now_Node]:\n",
    "            if not visited[i]:\n",
    "                visited[i] = True\n",
    "                queue.append(i)\n",
    "\n",
    "print()\n",
    "visited = [False]*(n+1)\n",
    "BFS(start)"
   ]
  }
 ],
 "metadata": {
  "kernelspec": {
   "display_name": "Python 3 (ipykernel)",
   "language": "python",
   "name": "python3"
  },
  "language_info": {
   "codemirror_mode": {
    "name": "ipython",
    "version": 3
   },
   "file_extension": ".py",
   "mimetype": "text/x-python",
   "name": "python",
   "nbconvert_exporter": "python",
   "pygments_lexer": "ipython3",
   "version": "3.9.13"
  }
 },
 "nbformat": 4,
 "nbformat_minor": 5
}
