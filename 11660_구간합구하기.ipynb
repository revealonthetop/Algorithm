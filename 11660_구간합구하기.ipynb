{
 "cells": [
  {
   "cell_type": "markdown",
   "id": "1b0b562a",
   "metadata": {},
   "source": [
    "문제\n",
    "N×N개의 수가 N×N 크기의 표에 채워져 있다. (x1, y1)부터 (x2, y2)까지 합을 구하는 프로그램을 작성하시오. (x, y)는 x행 y열을 의미한다.\n",
    "\n",
    "예를 들어, N = 4이고, 표가 아래와 같이 채워져 있는 경우를 살펴보자.\n",
    "\n",
    "1\t2\t3\t4\n",
    "2\t3\t4\t5\n",
    "3\t4\t5\t6\n",
    "4\t5\t6\t7\n",
    "여기서 (2, 2)부터 (3, 4)까지 합을 구하면 3+4+5+4+5+6 = 27이고, (4, 4)부터 (4, 4)까지 합을 구하면 7이다.\n",
    "\n",
    "표에 채워져 있는 수와 합을 구하는 연산이 주어졌을 때, 이를 처리하는 프로그램을 작성하시오.\n",
    "\n",
    "입력\n",
    "첫째 줄에 표의 크기 N과 합을 구해야 하는 횟수 M이 주어진다. (1 ≤ N ≤ 1024, 1 ≤ M ≤ 100,000) 둘째 줄부터 N개의 줄에는 표에 채워져 있는 수가 1행부터 차례대로 주어진다. 다음 M개의 줄에는 네 개의 정수 x1, y1, x2, y2 가 주어지며, (x1, y1)부터 (x2, y2)의 합을 구해 출력해야 한다. 표에 채워져 있는 수는 1,000보다 작거나 같은 자연수이다. (x1 ≤ x2, y1 ≤ y2)\n",
    "\n",
    "출력\n",
    "총 M줄에 걸쳐 (x1, y1)부터 (x2, y2)까지 합을 구해 출력한다."
   ]
  },
  {
   "cell_type": "code",
   "execution_count": null,
   "id": "7f063551",
   "metadata": {},
   "outputs": [],
   "source": [
    "import sys\n",
    "input = sys.stdin.readline\n",
    "\n"
   ]
  }
 ],
 "metadata": {
  "kernelspec": {
   "display_name": "Python 3 (ipykernel)",
   "language": "python",
   "name": "python3"
  },
  "language_info": {
   "codemirror_mode": {
    "name": "ipython",
    "version": 3
   },
   "file_extension": ".py",
   "mimetype": "text/x-python",
   "name": "python",
   "nbconvert_exporter": "python",
   "pygments_lexer": "ipython3",
   "version": "3.9.13"
  }
 },
 "nbformat": 4,
 "nbformat_minor": 5
}
