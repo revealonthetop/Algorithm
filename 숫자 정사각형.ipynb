{
 "cells": [
  {
   "cell_type": "markdown",
   "id": "638717e6",
   "metadata": {},
   "source": [
    "n m 크기의 직사각형이 있다. 각 칸에는 한 자리 숫자가 적혀 있다. 이  직사각혀에서 꼭짓점에 쓰여 있는 수가 모두 같은"
   ]
  },
  {
   "cell_type": "code",
   "execution_count": null,
   "id": "111ef36c",
   "metadata": {},
   "outputs": [],
   "source": [
    "n,m = int(input().split())\n",
    "\n"
   ]
  }
 ],
 "metadata": {
  "kernelspec": {
   "display_name": "Python 3 (ipykernel)",
   "language": "python",
   "name": "python3"
  },
  "language_info": {
   "codemirror_mode": {
    "name": "ipython",
    "version": 3
   },
   "file_extension": ".py",
   "mimetype": "text/x-python",
   "name": "python",
   "nbconvert_exporter": "python",
   "pygments_lexer": "ipython3",
   "version": "3.9.13"
  }
 },
 "nbformat": 4,
 "nbformat_minor": 5
}
