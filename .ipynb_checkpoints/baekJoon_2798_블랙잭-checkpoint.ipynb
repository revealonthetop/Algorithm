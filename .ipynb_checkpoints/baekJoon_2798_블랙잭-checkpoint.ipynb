{
 "cells": [
  {
   "cell_type": "markdown",
   "id": "6834830c",
   "metadata": {},
   "source": [
    "### 포인트를 세군대로 잡고 옮기면서 완전탐색"
   ]
  },
  {
   "cell_type": "code",
   "execution_count": 6,
   "id": "3dd69442",
   "metadata": {},
   "outputs": [
    {
     "name": "stdout",
     "output_type": "stream",
     "text": [
      "5 21\n",
      "5 6 7 8 9\n",
      "21\n"
     ]
    }
   ],
   "source": [
    "n, m = map(int,input().split())\n",
    "line = list(map(int, input().split()))\n",
    "one =0\n",
    "two = one+1\n",
    "three = two+1\n",
    "p1, p2, p3 = 1,1,1\n",
    "m_black = p1+p2+p3\n",
    "\n",
    "for i in range(one,n-2):\n",
    "    p1 = line[i]\n",
    "    \n",
    "    for j in range(two,n-1):\n",
    "        p2 = line[j]\n",
    "        \n",
    "        for k in range(three,n):\n",
    "            p3= line[k]\n",
    "            if m_black<p1+p2+p3<=m:\n",
    "                m_black = p1+p2+p3\n",
    "print(m_black)"
   ]
  },
  {
   "cell_type": "code",
   "execution_count": null,
   "id": "185b9ab5",
   "metadata": {},
   "outputs": [],
   "source": []
  }
 ],
 "metadata": {
  "kernelspec": {
   "display_name": "Python 3 (ipykernel)",
   "language": "python",
   "name": "python3"
  },
  "language_info": {
   "codemirror_mode": {
    "name": "ipython",
    "version": 3
   },
   "file_extension": ".py",
   "mimetype": "text/x-python",
   "name": "python",
   "nbconvert_exporter": "python",
   "pygments_lexer": "ipython3",
   "version": "3.9.13"
  }
 },
 "nbformat": 4,
 "nbformat_minor": 5
}
