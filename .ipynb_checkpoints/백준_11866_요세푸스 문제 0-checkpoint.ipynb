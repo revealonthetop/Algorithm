{
 "cells": [
  {
   "cell_type": "code",
   "execution_count": 19,
   "id": "7da0159c",
   "metadata": {},
   "outputs": [
    {
     "name": "stdout",
     "output_type": "stream",
     "text": [
      "7 3\n",
      "[3]\n",
      "[3, 6]\n",
      "[3, 6, 2]\n",
      "[3, 6, 2, 7]\n",
      "[3, 6, 2, 7, 5]\n",
      "[3, 6, 2, 7, 5, 1]\n",
      "[3, 6, 2, 7, 5, 1, 4]\n",
      "<3, 6, 2, 7, 5, 1, 4>\n"
     ]
    }
   ],
   "source": [
    "from collections import deque\n",
    "\n",
    "m,n = map(int,input().split())\n",
    "dq = deque(range(1,m+1))\n",
    "answer = []\n",
    "dq.rotate(-n+1)\n",
    "while len(dq)>0:\n",
    "    answer.append(dq.popleft())\n",
    "    dq.rotate(-n+1)\n",
    "\n",
    "print(\"<\",end='')\n",
    "for i in range(len(answer)-1):\n",
    "    print(\"%d, \"%answer[i], end='')\n",
    "print(answer[-1], end='')\n",
    "print(\">\")"
   ]
  },
  {
   "cell_type": "code",
   "execution_count": null,
   "id": "2577a587",
   "metadata": {},
   "outputs": [],
   "source": []
  }
 ],
 "metadata": {
  "kernelspec": {
   "display_name": "Python 3 (ipykernel)",
   "language": "python",
   "name": "python3"
  },
  "language_info": {
   "codemirror_mode": {
    "name": "ipython",
    "version": 3
   },
   "file_extension": ".py",
   "mimetype": "text/x-python",
   "name": "python",
   "nbconvert_exporter": "python",
   "pygments_lexer": "ipython3",
   "version": "3.9.13"
  }
 },
 "nbformat": 4,
 "nbformat_minor": 5
}
