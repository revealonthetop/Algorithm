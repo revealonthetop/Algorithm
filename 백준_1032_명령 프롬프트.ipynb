{
 "cells": [
  {
   "cell_type": "code",
   "execution_count": 4,
   "id": "aa10c4da",
   "metadata": {},
   "outputs": [
    {
     "name": "stdout",
     "output_type": "stream",
     "text": [
      "2\n",
      "contest.txt\n",
      "context.txt\n",
      "conte?t.txt\n"
     ]
    }
   ],
   "source": [
    "n = int(input())\n",
    "a = []\n",
    "\n",
    "for _ in range(n):\n",
    "    a.append(input())\n",
    "    \n",
    "answer = list(a[0])\n",
    "\n",
    "for i in a:\n",
    "    for j in range(len(i)):\n",
    "        if answer[j] != i[j]:\n",
    "            answer[j] = '?'\n",
    "\n",
    "a = \"\"\n",
    "for i in answer:\n",
    "    a += i\n",
    "print(a)"
   ]
  }
 ],
 "metadata": {
  "kernelspec": {
   "display_name": "Python 3 (ipykernel)",
   "language": "python",
   "name": "python3"
  },
  "language_info": {
   "codemirror_mode": {
    "name": "ipython",
    "version": 3
   },
   "file_extension": ".py",
   "mimetype": "text/x-python",
   "name": "python",
   "nbconvert_exporter": "python",
   "pygments_lexer": "ipython3",
   "version": "3.9.13"
  }
 },
 "nbformat": 4,
 "nbformat_minor": 5
}
