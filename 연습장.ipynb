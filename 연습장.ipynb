{
 "cells": [
  {
   "cell_type": "code",
   "execution_count": 3,
   "id": "1afef8ea",
   "metadata": {},
   "outputs": [
    {
     "name": "stdout",
     "output_type": "stream",
     "text": [
      "100\n",
      "80\n",
      "60\n",
      "[(100, 0), (80, 1), (60, 2)]\n"
     ]
    }
   ],
   "source": [
    "n = 3\n",
    "a = []\n",
    "for i in range(n):\n",
    "    a.append((int(input()),i))\n",
    "\n",
    "print(a)"
   ]
  },
  {
   "cell_type": "code",
   "execution_count": 5,
   "id": "fd7a58ac",
   "metadata": {},
   "outputs": [
    {
     "name": "stdout",
     "output_type": "stream",
     "text": [
      "1 2 3 4 5 6 7 8 9"
     ]
    }
   ],
   "source": [
    "a = [1,2,3,4,5,6,7,8,9]\n",
    "\n",
    "print(*a, end='')"
   ]
  },
  {
   "cell_type": "code",
   "execution_count": 24,
   "id": "40b3f458",
   "metadata": {},
   "outputs": [
    {
     "name": "stdout",
     "output_type": "stream",
     "text": [
      "999\n",
      "19\n"
     ]
    }
   ],
   "source": [
    "n = list(input())\n",
    "s = 0\n",
    "if len(n)==3:\n",
    "    for i in n:\n",
    "        if (i != '0') and (i != '1'):\n",
    "            s += int(i) + 10\n",
    "            print(s)\n",
    "            break\n",
    "else: print(int(n[0])+int(n[1]))"
   ]
  }
 ],
 "metadata": {
  "kernelspec": {
   "display_name": "Python 3 (ipykernel)",
   "language": "python",
   "name": "python3"
  },
  "language_info": {
   "codemirror_mode": {
    "name": "ipython",
    "version": 3
   },
   "file_extension": ".py",
   "mimetype": "text/x-python",
   "name": "python",
   "nbconvert_exporter": "python",
   "pygments_lexer": "ipython3",
   "version": "3.9.13"
  }
 },
 "nbformat": 4,
 "nbformat_minor": 5
}
