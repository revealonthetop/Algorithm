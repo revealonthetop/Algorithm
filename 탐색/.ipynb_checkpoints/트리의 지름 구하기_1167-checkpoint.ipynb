{
 "cells": [
  {
   "cell_type": "code",
   "execution_count": 4,
   "id": "9f40e403",
   "metadata": {},
   "outputs": [
    {
     "name": "stdout",
     "output_type": "stream",
     "text": [
      "5\n",
      "1 3 2 -1\n",
      "2 4 4 -1\n",
      "3 1 2 4 3 -1\n",
      "4 2 4 3 3 5 6 -1\n",
      "5 4 6 -1\n",
      "11\n"
     ]
    }
   ],
   "source": [
    "from collections import deque\n",
    "\n",
    "N = int(input())\n",
    "A = [[] for _ in range(N+1)]\n",
    "\n",
    "# A 인접 리스트에 그래프 데이터 저장\n",
    "for _ in range(N):\n",
    "    Data = list(map(int,input().split()))\n",
    "    index = 0\n",
    "    S = Data[index]\n",
    "    index += 1\n",
    "    while True:\n",
    "        E = Data[index]\n",
    "        if E == -1:\n",
    "            break\n",
    "        V = Data[index+ 1]\n",
    "        A[S].append((E,V))\n",
    "        index += 2\n",
    "\n",
    "distance = [0]*(N+1)\n",
    "visited = [False]*(N+1)\n",
    "                \n",
    "def BFS(v):\n",
    "    queue = deque()\n",
    "    queue.append(v)\n",
    "    visited[v] = True\n",
    "    while queue:\n",
    "        Now_Node = queue.popleft()\n",
    "        for i in A[Now_Node]:\n",
    "            if not visited[i[0]]:\n",
    "                visited[i[0]] = True\n",
    "                queue.append(i[0])\n",
    "                distance[i[0]] = distance[Now_Node] + i[1]\n",
    "                \n",
    "BFS(1)\n",
    "Max = 1\n",
    "for i in range(2, N+1):\n",
    "    if distance[Max] < distance[i]:\n",
    "        Max = i\n",
    "        \n",
    "distance = [0] *(N+1)\n",
    "visited = [False]*(N+1)\n",
    "BFS(Max)\n",
    "distance.sort()\n",
    "print(distance[N])"
   ]
  },
  {
   "cell_type": "code",
   "execution_count": null,
   "id": "aadd1169",
   "metadata": {},
   "outputs": [],
   "source": [
    "\n",
    "\n",
    "\n",
    "\n",
    "\n",
    "\n"
   ]
  }
 ],
 "metadata": {
  "kernelspec": {
   "display_name": "Python 3 (ipykernel)",
   "language": "python",
   "name": "python3"
  },
  "language_info": {
   "codemirror_mode": {
    "name": "ipython",
    "version": 3
   },
   "file_extension": ".py",
   "mimetype": "text/x-python",
   "name": "python",
   "nbconvert_exporter": "python",
   "pygments_lexer": "ipython3",
   "version": "3.9.13"
  }
 },
 "nbformat": 4,
 "nbformat_minor": 5
}
