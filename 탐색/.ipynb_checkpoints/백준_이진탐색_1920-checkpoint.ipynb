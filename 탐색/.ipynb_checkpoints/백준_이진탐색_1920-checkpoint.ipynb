{
 "cells": [
  {
   "cell_type": "code",
   "execution_count": null,
   "id": "711bee75",
   "metadata": {},
   "outputs": [],
   "source": [
    "import sys\n",
    "input = sys.stdil.readline\n",
    "\n",
    "n = int(input())\n",
    "A = list(map(int,input().split()))\n",
    "m = int(input())\n",
    "B = list(map(int,input().split()))\n",
    "\n",
    "A = sorted(A)\n",
    "\n",
    "def find_num(n):\n",
    "    index = (A[0]+A[-1]) // 2\n",
    "    while "
   ]
  }
 ],
 "metadata": {
  "kernelspec": {
   "display_name": "Python 3 (ipykernel)",
   "language": "python",
   "name": "python3"
  },
  "language_info": {
   "codemirror_mode": {
    "name": "ipython",
    "version": 3
   },
   "file_extension": ".py",
   "mimetype": "text/x-python",
   "name": "python",
   "nbconvert_exporter": "python",
   "pygments_lexer": "ipython3",
   "version": "3.9.13"
  }
 },
 "nbformat": 4,
 "nbformat_minor": 5
}
